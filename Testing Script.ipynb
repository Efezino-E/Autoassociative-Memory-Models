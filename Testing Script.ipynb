{
 "cells": [
  {
   "cell_type": "markdown",
   "metadata": {},
   "source": [
    "# This script is used for testing the functionality of the UHN library\n",
    "* It is important to update this test scritpt with updates in the UHN library\n",
    "* It is important to also update this script to show what each cell tests\n",
    "* It is important to test all aspects of the library"
   ]
  },
  {
   "cell_type": "code",
   "execution_count": 7,
   "metadata": {},
   "outputs": [],
   "source": [
    "import UHN as UHN\n",
    "import numpy as np"
   ]
  },
  {
   "cell_type": "code",
   "execution_count": 5,
   "metadata": {},
   "outputs": [
    {
     "name": "stdout",
     "output_type": "stream",
     "text": [
      "[[1 2 3]\n",
      " [4 5 6]\n",
      " [7 8 9]] data stored\n",
      "\n",
      "[3, 2, 3] query stored\n",
      "\n",
      "data stored for Manhattan separator\n",
      "data stored for Weighted Sum projection\n",
      "Manhattan similarity flow complete\n",
      "Softmax separator flow complete\n",
      "Weighted Sum projection applied\n"
     ]
    },
    {
     "data": {
      "text/plain": [
       "[1.0200835590891117, 2.0200835590891115, 3.020083559089111]"
      ]
     },
     "execution_count": 5,
     "metadata": {},
     "output_type": "execute_result"
    }
   ],
   "source": [
    "# data pattern\n",
    "data = np.array([[1, 2, 3], [4, 5, 6], [7, 8, 9]])\n",
    "query = [3, 2, 3]\n",
    "print(data, \"data stored\\n\")\n",
    "print(query, \"query stored\\n\")\n",
    "\n",
    "model = UHN.UHNModel(UHN.manhattan, UHN.softmax, UHN.weighted_sum, iterator = False, quiet = False)\n",
    "model.fit(data)\n",
    "model.query(np.array(query))"
   ]
  },
  {
   "cell_type": "code",
   "execution_count": 6,
   "metadata": {},
   "outputs": [
    {
     "name": "stdout",
     "output_type": "stream",
     "text": [
      "[[1 2 3]\n",
      " [4 5 6]\n",
      " [7 8 9]] data stored\n",
      "\n",
      "[3, 2, 3] query stored\n",
      "\n",
      "[14  9  0] smaller numbers represent similarity\n",
      "\n",
      "Softmax separator flow complete\n",
      "[9.93306306e-01 6.69286776e-03 8.25970499e-07] probability of query corresponding to data patterns\n",
      "\n",
      "data stored for Weighted Sum projection\n",
      "Weighted Sum projection applied\n",
      "[1.0200835590891117, 2.0200835590891115, 3.020083559089111] this is the recalled data\n",
      "\n"
     ]
    }
   ],
   "source": [
    "# data pattern\n",
    "data = np.array([[1, 2, 3], [4, 5, 6], [7, 8, 9]])\n",
    "query = [3, 2, 3]\n",
    "print(data, \"data stored\\n\")\n",
    "print(query, \"query stored\\n\")\n",
    "\n",
    "# similarity \n",
    "similarity = UHN.manhattan(show_progress = False)\n",
    "similarity.fit(data)\n",
    "out1 = similarity.flow(np.array(query))\n",
    "print(out1, \"smaller numbers represent similarity\\n\")\n",
    "\n",
    "# sepration\n",
    "probs = UHN.softmax(show_progress = True, invert_probabilities = True)\n",
    "out2 = probs.flow(out1)\n",
    "print(out2, \"probability of query corresponding to data patterns\\n\")\n",
    "\n",
    "# projection\n",
    "proj = UHN.weighted_sum(show_progress = True)\n",
    "proj.fit(data)\n",
    "out3 = proj.flow(out2)\n",
    "print(out3, \"this is the recalled data\\n\")"
   ]
  }
 ],
 "metadata": {
  "kernelspec": {
   "display_name": "Python 3",
   "language": "python",
   "name": "python3"
  },
  "language_info": {
   "codemirror_mode": {
    "name": "ipython",
    "version": 3
   },
   "file_extension": ".py",
   "mimetype": "text/x-python",
   "name": "python",
   "nbconvert_exporter": "python",
   "pygments_lexer": "ipython3",
   "version": "3.11.9"
  }
 },
 "nbformat": 4,
 "nbformat_minor": 2
}
